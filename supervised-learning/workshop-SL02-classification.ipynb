{
 "cells": [
  {
   "cell_type": "markdown",
   "metadata": {},
   "source": [
    "# Workshop SL02: Classification"
   ]
  },
  {
   "cell_type": "markdown",
   "metadata": {},
   "source": [
    "### Learning Objectives\n",
    "* Naive Bayes\n",
    "* K-Nearest Neighbours\n",
    "* Decision-Trees\n",
    "* Random Forests\n",
    "* Support Vector Machines"
   ]
  },
  {
   "cell_type": "markdown",
   "metadata": {},
   "source": [
    "### Dataset Anatonomy\n",
    "\n",
    "Datasets are a composition of records (also called instances) (analogous to rows in a database).\n",
    "* **Record**, the data (label and features) pertaining to a single item in the dataset (i.e. one of the rows of a table); a dataset is composed of 0..N instances.\n",
    "\n",
    "Records are (in classification tasks) composed of features and labels.\n",
    "* **Feature**, a property describing instances in the dataset (i.e. one of the columns of the table); each instance is described by a vector of M instances.\n",
    "* **Label**, the property of an instance that you want to predict (i.e. also one of the colums of the table); the label is known for instances of the training/test datasets, but is unknown for unseen data."
   ]
  },
  {
   "cell_type": "markdown",
   "metadata": {},
   "source": [
    "### Classification and Clustering\n",
    "\n",
    "The two major paradigms in data sciene are (1) classification and (2) clustering.\n",
    "* **Classification**, mapping feature vectors to labels (e.g. given a person's Age and Sex, predict their Brain Size).\n",
    "* **Clustering**, grouping instances according to some similarity metric (e.g. given a dataset of people's Nationality, Age, LanguageSpoken, Ethinicity, group instances into clusters).\n",
    "\n",
    "We're going to focus on classification in this workshop."
   ]
  },
  {
   "cell_type": "code",
   "execution_count": 60,
   "metadata": {},
   "outputs": [],
   "source": [
    "import pandas as pd"
   ]
  },
  {
   "cell_type": "code",
   "execution_count": 61,
   "metadata": {},
   "outputs": [],
   "source": [
    "# read-in the training and testing datasets\n",
    "train = pd.read_csv(\"datasets/titanic_train_clean.csv\")\n",
    "train.fillna(inplace=True, method=\"bfill\")\n",
    "test = pd.read_csv(\"datasets/titanic_train_clean.csv\")\n",
    "test.fillna(inplace=True, method=\"bfill\")"
   ]
  },
  {
   "cell_type": "markdown",
   "metadata": {},
   "source": [
    "#### K-Nearest Neighbours\n",
    "\n",
    "This is the first classifier that we're going to mess around with. Watch https://www.youtube.com/watch?v=4ObVzTuFivY, then read through the worked example.\n",
    "\n",
    "The scientific package that we're going to use is `sklearn`; this comes with pretty much every classification (and clustering) algorithm that you can think of."
   ]
  },
  {
   "cell_type": "code",
   "execution_count": 62,
   "metadata": {},
   "outputs": [],
   "source": [
    "# extract the label series from the training/test data\n",
    "train_y = train[\"Survived\"]\n",
    "test_y = test[\"Survived\"]\n",
    "\n",
    "# extract the feature matrix from the training/test data\n",
    "train_X = train.drop([\"PassengerId\", \"Survived\"], inplace=False, axis=1)\n",
    "test_X = test.drop([\"PassengerId\", \"Survived\"], inplace=False, axis=1)"
   ]
  },
  {
   "cell_type": "code",
   "execution_count": 63,
   "metadata": {},
   "outputs": [
    {
     "data": {
      "text/plain": [
       "KNeighborsClassifier(algorithm='auto', leaf_size=30, metric='minkowski',\n",
       "           metric_params=None, n_jobs=1, n_neighbors=5, p=2,\n",
       "           weights='uniform')"
      ]
     },
     "execution_count": 63,
     "metadata": {},
     "output_type": "execute_result"
    }
   ],
   "source": [
    "# import the KNN classifier from sklearn\n",
    "from sklearn.neighbors import KNeighborsClassifier\n",
    "\n",
    "# define the classifier object\n",
    "clf_knn = KNeighborsClassifier()\n",
    "\n",
    "# train the classifier on our training data\n",
    "clf_knn.fit(train_X, train_y)"
   ]
  },
  {
   "cell_type": "code",
   "execution_count": 64,
   "metadata": {},
   "outputs": [
    {
     "data": {
      "text/plain": [
       "0.8013468013468014"
      ]
     },
     "execution_count": 64,
     "metadata": {},
     "output_type": "execute_result"
    }
   ],
   "source": [
    "# check the performance of the classifier on the training data\n",
    "clf_knn.score(test_X, test_y)"
   ]
  },
  {
   "cell_type": "markdown",
   "metadata": {},
   "source": [
    "## Exercises\n",
    "\n",
    "1. Read through the `sklearn` documentation for the KNN classifier, and try messing around with a few of the hyperparameters (e.g. the value of k). See what happens to test accuracy if you make k really small (1), and if you make k really large (the size of the training dataset).\n",
    "2. Using what you know so far, look up and build the following classifiers over the titanic dataset: (a) Naive Bayes, (b) Decision Tree, (c) Random Forest, (d) Support Vector Machines."
   ]
  },
  {
   "cell_type": "code",
   "execution_count": 68,
   "metadata": {},
   "outputs": [
    {
     "data": {
      "text/plain": [
       "0.7934904601571269"
      ]
     },
     "execution_count": 68,
     "metadata": {},
     "output_type": "execute_result"
    }
   ],
   "source": [
    "from sklearn.naive_bayes import GaussianNB\n",
    "\n",
    "clf_gnb = GaussianNB()\n",
    "\n",
    "clf_gnb.fit(train_X, train_y)\n",
    "\n",
    "clf_gnb.score(test_X, test_y)"
   ]
  },
  {
   "cell_type": "code",
   "execution_count": 69,
   "metadata": {},
   "outputs": [
    {
     "data": {
      "text/plain": [
       "0.9753086419753086"
      ]
     },
     "execution_count": 69,
     "metadata": {},
     "output_type": "execute_result"
    }
   ],
   "source": [
    "from sklearn.ensemble import RandomForestClassifier\n",
    "\n",
    "clf_rfc = RandomForestClassifier()\n",
    "\n",
    "clf_rfc.fit(train_X, train_y)\n",
    "\n",
    "clf_rfc.score(test_X, test_y)"
   ]
  },
  {
   "cell_type": "code",
   "execution_count": 70,
   "metadata": {},
   "outputs": [
    {
     "data": {
      "text/plain": [
       "0.9854096520763187"
      ]
     },
     "execution_count": 70,
     "metadata": {},
     "output_type": "execute_result"
    }
   ],
   "source": [
    "from sklearn.tree import DecisionTreeClassifier\n",
    "\n",
    "clf_dtc = DecisionTreeClassifier()\n",
    "\n",
    "clf_dtc.fit(train_X, train_y)\n",
    "\n",
    "clf_dtc.score(test_X, test_y)"
   ]
  },
  {
   "cell_type": "code",
   "execution_count": 71,
   "metadata": {},
   "outputs": [
    {
     "data": {
      "text/plain": [
       "0.9180695847362514"
      ]
     },
     "execution_count": 71,
     "metadata": {},
     "output_type": "execute_result"
    }
   ],
   "source": [
    "from sklearn.svm import SVC\n",
    "\n",
    "clf_svc = SVC()\n",
    "\n",
    "clf_svc.fit(train_X, train_y)\n",
    "\n",
    "clf_svc.score(test_X, test_y)"
   ]
  },
  {
   "cell_type": "code",
   "execution_count": null,
   "metadata": {},
   "outputs": [],
   "source": []
  }
 ],
 "metadata": {
  "kernelspec": {
   "display_name": "Python 3",
   "language": "python",
   "name": "python3"
  },
  "language_info": {
   "codemirror_mode": {
    "name": "ipython",
    "version": 3
   },
   "file_extension": ".py",
   "mimetype": "text/x-python",
   "name": "python",
   "nbconvert_exporter": "python",
   "pygments_lexer": "ipython3",
   "version": "3.6.4"
  }
 },
 "nbformat": 4,
 "nbformat_minor": 2
}

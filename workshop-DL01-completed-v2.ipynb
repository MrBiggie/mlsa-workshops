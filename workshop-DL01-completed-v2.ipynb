{
 "cells": [
  {
   "cell_type": "markdown",
   "metadata": {},
   "source": [
    "# Workshop DL01 - Intro to Deep Learning"
   ]
  },
  {
   "cell_type": "markdown",
   "metadata": {},
   "source": [
    "### Setup\n",
    "\n",
    "#### Installing TensorFlow\n",
    "1. Open the Anaconda3 Terminal\n",
    "2. Execute `pip install --upgrade tensorflow`\n",
    "\n",
    "#### Getting the MNIST Data\n",
    "1. Go to https://www.kaggle.com/c/digit-recognizer/data\n",
    "2. Download \"train.csv\" and \"test.csv\", put these into the same folder as this notebook"
   ]
  },
  {
   "cell_type": "markdown",
   "metadata": {},
   "source": [
    "# Deep Neural Network Image Classifier\n",
    "\n",
    "**Changes from v1**\n",
    "* Added a third "
   ]
  },
  {
   "cell_type": "code",
   "execution_count": 3,
   "metadata": {},
   "outputs": [
    {
     "name": "stderr",
     "output_type": "stream",
     "text": [
      "/Users/evan/anaconda3/lib/python3.6/site-packages/h5py/__init__.py:36: FutureWarning: Conversion of the second argument of issubdtype from `float` to `np.floating` is deprecated. In future, it will be treated as `np.float64 == np.dtype(float).type`.\n",
      "  from ._conv import register_converters as _register_converters\n"
     ]
    }
   ],
   "source": [
    "import tensorflow as tf\n",
    "import pandas as pd\n",
    "import numpy as np"
   ]
  },
  {
   "cell_type": "code",
   "execution_count": 41,
   "metadata": {},
   "outputs": [],
   "source": [
    "# read-in raw data\n",
    "data = pd.read_csv(\"datasets/mnist_train.csv\")\n",
    "\n",
    "# mask for splitting data into train and test sets\n",
    "mask = np.random.rand(len(data)) < 0.90\n",
    "\n",
    "# training data, features (X) and labels (y)\n",
    "train_X = data[mask].drop(\"label\", axis=1)\n",
    "train_y = data.label[mask]\n",
    "\n",
    "# test data, features (X) and labels (y)\n",
    "test_X = data[~mask].drop(\"label\", axis=1)\n",
    "test_y = data.label[~mask]"
   ]
  },
  {
   "cell_type": "code",
   "execution_count": 42,
   "metadata": {},
   "outputs": [],
   "source": [
    "# helper functions for defining weights/biases in tensorflow\n",
    "def weight_variable(shape):\n",
    "    return tf.Variable(tf.truncated_normal(shape, stddev=0.1))\n",
    "\n",
    "def bias_variable(shape):\n",
    "    return tf.Variable(tf.constant(0.1), shape)"
   ]
  },
  {
   "cell_type": "code",
   "execution_count": 43,
   "metadata": {},
   "outputs": [],
   "source": [
    "# (1) define network architecture\n",
    "with tf.name_scope(\"input\"):\n",
    "    x = tf.placeholder(tf.float32, [None, 784], name=\"features\")\n",
    "    y = tf.placeholder(tf.int64, [None], name=\"labels\")\n",
    "    y_one_hot = tf.one_hot(indices=y, depth=10)\n",
    "\n",
    "with tf.name_scope(\"fc-layer-1\"):\n",
    "    w1 = weight_variable([784, 500])\n",
    "    b1 = bias_variable([500])\n",
    "    fc1 = tf.nn.relu(tf.matmul(x, w1) + b1)\n",
    "\n",
    "with tf.name_scope(\"fc-layer-2\"):\n",
    "    w2 = weight_variable([500, 500])\n",
    "    b2 = bias_variable([500])\n",
    "    fc2 = tf.nn.relu(tf.matmul(fc1, w2) + b2)\n",
    "    \n",
    "with tf.name_scope(\"fc-layer-3\"):\n",
    "    w3 = weight_variable([500, 500])\n",
    "    b3 = bias_variable([500])\n",
    "    fc3 = tf.nn.relu(tf.matmul(fc2, w3) + b3)\n",
    "    \n",
    "with tf.name_scope(\"output\"):\n",
    "    w4 = weight_variable([500, 10])\n",
    "    b4 = bias_variable([10])\n",
    "    y_ = tf.matmul(fc3, w4) + b4"
   ]
  },
  {
   "cell_type": "code",
   "execution_count": 44,
   "metadata": {},
   "outputs": [],
   "source": [
    "# (2) define loss function\n",
    "with tf.name_scope(\"loss\"):\n",
    "    cross_entropy = tf.reduce_mean(\n",
    "        tf.nn.softmax_cross_entropy_with_logits_v2(\n",
    "        logits=y_, labels=y_one_hot)\n",
    "    )"
   ]
  },
  {
   "cell_type": "code",
   "execution_count": 45,
   "metadata": {},
   "outputs": [],
   "source": [
    "# (3) define optimizer\n",
    "with tf.name_scope(\"optimizer\"):\n",
    "    optimizer = tf.train.AdamOptimizer().minimize(\n",
    "        cross_entropy\n",
    "    )"
   ]
  },
  {
   "cell_type": "code",
   "execution_count": 46,
   "metadata": {},
   "outputs": [],
   "source": [
    "# aside: evaluation operations\n",
    "with tf.name_scope(\"accuracy\"):\n",
    "    correct = tf.equal(tf.argmax(y_, 1), y)\n",
    "    accuracy = tf.reduce_mean(tf.cast(correct, tf.float32))"
   ]
  },
  {
   "cell_type": "code",
   "execution_count": 49,
   "metadata": {
    "scrolled": true
   },
   "outputs": [
    {
     "name": "stdout",
     "output_type": "stream",
     "text": [
      "==================================================\n",
      "Epoch 1 completed, loss = 916.73944\n",
      "Test accuracy = [0.17077294]\n",
      "==================================================\n",
      "Epoch 2 completed, loss = 550.7901\n",
      "Test accuracy = [0.28236714]\n",
      "==================================================\n",
      "Epoch 3 completed, loss = 485.4057\n",
      "Test accuracy = [0.3852657]\n",
      "==================================================\n",
      "Epoch 4 completed, loss = 446.5318\n",
      "Test accuracy = [0.44806764]\n",
      "==================================================\n",
      "Epoch 5 completed, loss = 380.89944\n",
      "Test accuracy = [0.5004831]\n",
      "==================================================\n",
      "Epoch 6 completed, loss = 277.50827\n",
      "Test accuracy = [0.6304348]\n",
      "==================================================\n",
      "Epoch 7 completed, loss = 166.6426\n",
      "Test accuracy = [0.71014494]\n",
      "==================================================\n",
      "Epoch 8 completed, loss = 100.42658\n",
      "Test accuracy = [0.7468599]\n",
      "==================================================\n",
      "Epoch 9 completed, loss = 73.31674\n",
      "Test accuracy = [0.7567633]\n",
      "==================================================\n",
      "Epoch 10 completed, loss = 70.59282\n",
      "Test accuracy = [0.7512077]\n",
      "==================================================\n",
      "Epoch 11 completed, loss = 80.63284\n",
      "Test accuracy = [0.7425121]\n",
      "==================================================\n",
      "Epoch 12 completed, loss = 89.021034\n",
      "Test accuracy = [0.752657]\n",
      "==================================================\n",
      "Epoch 13 completed, loss = 84.50319\n",
      "Test accuracy = [0.7727053]\n",
      "==================================================\n",
      "Epoch 14 completed, loss = 70.36919\n",
      "Test accuracy = [0.79541063]\n",
      "==================================================\n",
      "Epoch 15 completed, loss = 56.10537\n",
      "Test accuracy = [0.81690824]\n",
      "==================================================\n",
      "Epoch 16 completed, loss = 46.796505\n",
      "Test accuracy = [0.8328502]\n",
      "==================================================\n",
      "Epoch 17 completed, loss = 41.96804\n",
      "Test accuracy = [0.83816427]\n",
      "==================================================\n",
      "Epoch 18 completed, loss = 39.69407\n",
      "Test accuracy = [0.844686]\n",
      "==================================================\n",
      "Epoch 19 completed, loss = 38.243088\n",
      "Test accuracy = [0.84710145]\n",
      "==================================================\n",
      "Epoch 20 completed, loss = 36.633293\n",
      "Test accuracy = [0.85241544]\n",
      "==================================================\n",
      "Epoch 21 completed, loss = 34.528877\n",
      "Test accuracy = [0.8594203]\n",
      "==================================================\n",
      "Epoch 22 completed, loss = 32.10358\n",
      "Test accuracy = [0.8644928]\n",
      "==================================================\n",
      "Epoch 23 completed, loss = 29.779665\n",
      "Test accuracy = [0.86545897]\n",
      "==================================================\n",
      "Epoch 24 completed, loss = 27.792439\n",
      "Test accuracy = [0.8669082]\n",
      "==================================================\n",
      "Epoch 25 completed, loss = 26.12184\n",
      "Test accuracy = [0.8700483]\n",
      "==================================================\n",
      "Epoch 26 completed, loss = 24.517279\n",
      "Test accuracy = [0.87342995]\n",
      "==================================================\n",
      "Epoch 27 completed, loss = 22.958908\n",
      "Test accuracy = [0.88091785]\n",
      "==================================================\n",
      "Epoch 28 completed, loss = 21.590485\n",
      "Test accuracy = [0.8828502]\n",
      "==================================================\n",
      "Epoch 29 completed, loss = 20.48641\n",
      "Test accuracy = [0.8857488]\n",
      "==================================================\n",
      "Epoch 30 completed, loss = 19.64979\n",
      "Test accuracy = [0.88502413]\n",
      "==================================================\n"
     ]
    }
   ],
   "source": [
    "# (4) train network\n",
    "with tf.Session() as sess:\n",
    "    \n",
    "    # initialize all our operations\n",
    "    sess.run(tf.global_variables_initializer())\n",
    "    \n",
    "    # train the network\n",
    "    print(\"==================================================\")\n",
    "    for epoch in range(30):\n",
    "        \n",
    "        # Note: usually you have to chunk through the data in another\n",
    "        #       for loop; the data here is small though, so you might not\n",
    "        #       have to.\n",
    "        _, epoch_loss = sess.run([optimizer, cross_entropy],\n",
    "                feed_dict={x: train_X, y: train_y})\n",
    "        \n",
    "        print(\"Epoch \" + str(epoch+1) + \" completed, loss = \"\n",
    "              + str(epoch_loss))\n",
    "        \n",
    "        # evaluate on test data\n",
    "        score = sess.run([accuracy],\n",
    "                feed_dict={x: test_X, y: test_y})\n",
    "        print(\"Test accuracy = \" + str(score))\n",
    "        \n",
    "        print(\"==================================================\")"
   ]
  },
  {
   "cell_type": "code",
   "execution_count": null,
   "metadata": {},
   "outputs": [],
   "source": []
  }
 ],
 "metadata": {
  "kernelspec": {
   "display_name": "Python 3",
   "language": "python",
   "name": "python3"
  },
  "language_info": {
   "codemirror_mode": {
    "name": "ipython",
    "version": 3
   },
   "file_extension": ".py",
   "mimetype": "text/x-python",
   "name": "python",
   "nbconvert_exporter": "python",
   "pygments_lexer": "ipython3",
   "version": "3.6.4"
  }
 },
 "nbformat": 4,
 "nbformat_minor": 2
}

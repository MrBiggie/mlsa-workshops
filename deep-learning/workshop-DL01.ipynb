{
 "cells": [
  {
   "cell_type": "markdown",
   "metadata": {},
   "source": [
    "# Workshop DL01: Intro to Deep Learning"
   ]
  },
  {
   "cell_type": "markdown",
   "metadata": {},
   "source": [
    "## Learning Objectives\n",
    "* High-level understanding of the major components of deep neural networks - neurons, weights, biases, activation function\n",
    "* Understanding of how to construct simple fully-connected deep neural networks using TensorFlow"
   ]
  },
  {
   "cell_type": "markdown",
   "metadata": {},
   "source": [
    "## Worked Example: MNIST Digit Recognition"
   ]
  },
  {
   "cell_type": "code",
   "execution_count": 1,
   "metadata": {},
   "outputs": [
    {
     "name": "stderr",
     "output_type": "stream",
     "text": [
      "/Users/evan/anaconda3/lib/python3.6/site-packages/h5py/__init__.py:36: FutureWarning: Conversion of the second argument of issubdtype from `float` to `np.floating` is deprecated. In future, it will be treated as `np.float64 == np.dtype(float).type`.\n",
      "  from ._conv import register_converters as _register_converters\n"
     ]
    }
   ],
   "source": [
    "import tensorflow as tf\n",
    "import pandas as pd\n",
    "import numpy as np"
   ]
  },
  {
   "cell_type": "markdown",
   "metadata": {},
   "source": [
    "### Read the data"
   ]
  },
  {
   "cell_type": "code",
   "execution_count": 3,
   "metadata": {},
   "outputs": [],
   "source": [
    "# read-in raw data\n",
    "data = pd.read_csv(\"../datasets/mnist_train.csv\")\n",
    "\n",
    "# mask for splitting data into train and test sets\n",
    "mask = np.random.rand(len(data)) < 0.90\n",
    "\n",
    "# training data, features (X) and labels (y)\n",
    "train_X = data[mask].drop(\"label\", axis=1)\n",
    "train_y = data.label[mask]\n",
    "\n",
    "# test data, features (X) and labels (y)\n",
    "test_X = data[~mask].drop(\"label\", axis=1)\n",
    "test_y = data.label[~mask]"
   ]
  },
  {
   "cell_type": "code",
   "execution_count": 19,
   "metadata": {},
   "outputs": [],
   "source": [
    "# batchify\n",
    "def batchify(data, batch_size):\n",
    "    return np.array_split(data, len(data)//batch_size)"
   ]
  },
  {
   "cell_type": "markdown",
   "metadata": {},
   "source": [
    "### Define the network"
   ]
  },
  {
   "cell_type": "code",
   "execution_count": 153,
   "metadata": {},
   "outputs": [],
   "source": [
    "N_PIXELS = 28*28\n",
    "N_CLASSES = 10"
   ]
  },
  {
   "cell_type": "code",
   "execution_count": 154,
   "metadata": {},
   "outputs": [],
   "source": [
    "# (1) define the input placeholder tensor\n",
    "X = tf.placeholder(tf.float32, shape=[None,N_PIXELS])"
   ]
  },
  {
   "cell_type": "code",
   "execution_count": 155,
   "metadata": {},
   "outputs": [],
   "source": [
    "# (2) define the network architecture\n",
    "h1 = tf.layers.dense(inputs=X, units=500, activation=tf.nn.relu)\n",
    "h2 = tf.layers.dense(inputs=h1, units=500, activation=tf.nn.relu)"
   ]
  },
  {
   "cell_type": "code",
   "execution_count": 156,
   "metadata": {},
   "outputs": [],
   "source": [
    "# (3) define the output layer\n",
    "y_ = tf.layers.dense(inputs=h2, units=N_CLASSES, activation=None)"
   ]
  },
  {
   "cell_type": "code",
   "execution_count": 189,
   "metadata": {},
   "outputs": [],
   "source": [
    "# (4) define the loss function\n",
    "y = tf.placeholder(tf.int32, shape=[None])\n",
    "y_one_hot = tf.one_hot(y, depth=N_CLASSES)\n",
    "loss = tf.reduce_mean(tf.nn.softmax_cross_entropy_with_logits_v2(logits=y_, labels=y_one_hot))"
   ]
  },
  {
   "cell_type": "code",
   "execution_count": 190,
   "metadata": {},
   "outputs": [],
   "source": [
    "# (5) define the optimizer\n",
    "optimizer = tf.train.AdamOptimizer().minimize(loss)"
   ]
  },
  {
   "cell_type": "code",
   "execution_count": 203,
   "metadata": {},
   "outputs": [],
   "source": [
    "# (6) define accuracy statistic\n",
    "correct = tf.equal(tf.argmax(y_one_hot, axis=1), tf.argmax(y_, axis=1))\n",
    "accuracy = tf.reduce_mean(tf.cast(correct, tf.float32))"
   ]
  },
  {
   "cell_type": "markdown",
   "metadata": {},
   "source": [
    "### Train the network"
   ]
  },
  {
   "cell_type": "code",
   "execution_count": 204,
   "metadata": {},
   "outputs": [],
   "source": [
    "N_TRAINING_EPOCHS = 10\n",
    "TRAINING_BATCH_SIZE = 128"
   ]
  },
  {
   "cell_type": "code",
   "execution_count": 207,
   "metadata": {},
   "outputs": [
    {
     "name": "stdout",
     "output_type": "stream",
     "text": [
      "==================================\n",
      "Epoch 0 completed\n",
      "Loss: 1060.1766787171364\n",
      "Acc:  [0.9255143]\n",
      "==================================\n",
      "==================================\n",
      "Epoch 1 completed\n",
      "Loss: 114.1358534488827\n",
      "Acc:  [0.9406479]\n",
      "==================================\n",
      "==================================\n",
      "Epoch 2 completed\n",
      "Loss: 66.8469255939126\n",
      "Acc:  [0.94726884]\n",
      "==================================\n",
      "==================================\n",
      "Epoch 3 completed\n",
      "Loss: 52.774382788455114\n",
      "Acc:  [0.9512887]\n",
      "==================================\n",
      "==================================\n",
      "Epoch 4 completed\n",
      "Loss: 45.07347659629886\n",
      "Acc:  [0.95790964]\n",
      "==================================\n",
      "==================================\n",
      "Epoch 5 completed\n",
      "Loss: 44.431201502652584\n",
      "Acc:  [0.956018]\n",
      "==================================\n",
      "==================================\n",
      "Epoch 6 completed\n",
      "Loss: 47.255663134754286\n",
      "Acc:  [0.9583826]\n",
      "==================================\n",
      "==================================\n",
      "Epoch 7 completed\n",
      "Loss: 45.367300333346066\n",
      "Acc:  [0.9567274]\n",
      "==================================\n",
      "==================================\n",
      "Epoch 8 completed\n",
      "Loss: 42.524391990420554\n",
      "Acc:  [0.9657129]\n",
      "==================================\n",
      "==================================\n",
      "Epoch 9 completed\n",
      "Loss: 32.241352115311656\n",
      "Acc:  [0.96287537]\n",
      "==================================\n"
     ]
    }
   ],
   "source": [
    "batches_X = batchify(train_X, TRAINING_BATCH_SIZE)\n",
    "batches_y = batchify(train_y, TRAINING_BATCH_SIZE)\n",
    "\n",
    "with tf.Session() as sess:\n",
    "    sess.run(tf.global_variables_initializer())\n",
    "    \n",
    "    for epoch in range(N_TRAINING_EPOCHS):\n",
    "        \n",
    "        epoch_loss = 0\n",
    "        for i in range(len(batches_X)):\n",
    "            _, batch_loss = sess.run([optimizer, loss],\n",
    "                feed_dict={X: batches_X[i], y: batches_y[i]})\n",
    "            epoch_loss += batch_loss\n",
    "            \n",
    "        epoch_score = sess.run([accuracy],\n",
    "                feed_dict={X: test_X, y: test_y})\n",
    "        \n",
    "        print(\"==================================\")\n",
    "        print(\"Epoch \" + str(epoch) + \" completed\")\n",
    "        print(\"Loss: \" + str(epoch_loss))\n",
    "        print(\"Acc:  \" + str(epoch_score))\n",
    "        print(\"==================================\")"
   ]
  },
  {
   "cell_type": "code",
   "execution_count": null,
   "metadata": {},
   "outputs": [],
   "source": []
  }
 ],
 "metadata": {
  "kernelspec": {
   "display_name": "Python 3",
   "language": "python",
   "name": "python3"
  },
  "language_info": {
   "codemirror_mode": {
    "name": "ipython",
    "version": 3
   },
   "file_extension": ".py",
   "mimetype": "text/x-python",
   "name": "python",
   "nbconvert_exporter": "python",
   "pygments_lexer": "ipython3",
   "version": "3.6.4"
  }
 },
 "nbformat": 4,
 "nbformat_minor": 2
}

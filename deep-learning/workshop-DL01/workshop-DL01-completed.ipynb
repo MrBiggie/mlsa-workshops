{
 "cells": [
  {
   "cell_type": "markdown",
   "metadata": {},
   "source": [
    "# Workshop DL01 - Intro to Deep Learning"
   ]
  },
  {
   "cell_type": "markdown",
   "metadata": {},
   "source": [
    "### Setup\n",
    "\n",
    "#### Installing TensorFlow\n",
    "1. Open the Anaconda3 Terminal\n",
    "2. Execute `pip install --upgrade tensorflow`\n",
    "\n",
    "#### Getting the MNIST Data\n",
    "1. Go to https://www.kaggle.com/c/digit-recognizer/data\n",
    "2. Download \"train.csv\" and \"test.csv\", put these into the same folder as this notebook"
   ]
  },
  {
   "cell_type": "markdown",
   "metadata": {},
   "source": [
    "# Deep Neural Network Image Classifier"
   ]
  },
  {
   "cell_type": "code",
   "execution_count": 125,
   "metadata": {},
   "outputs": [],
   "source": [
    "import tensorflow as tf\n",
    "import pandas as pd\n",
    "import numpy as np"
   ]
  },
  {
   "cell_type": "code",
   "execution_count": 126,
   "metadata": {},
   "outputs": [],
   "source": [
    "# read-in raw data\n",
    "data = pd.read_csv(\"datasets/mnist_train.csv\")\n",
    "\n",
    "# mask for splitting data into train and test sets\n",
    "mask = np.random.rand(len(data)) < 0.90\n",
    "\n",
    "# training data, features (X) and labels (y)\n",
    "train_X = data[mask].drop(\"label\", axis=1)\n",
    "train_y = data.label[mask]\n",
    "\n",
    "# test data, features (X) and labels (y)\n",
    "test_X = data[~mask].drop(\"label\", axis=1)\n",
    "test_y = data.label[~mask]"
   ]
  },
  {
   "cell_type": "code",
   "execution_count": 127,
   "metadata": {},
   "outputs": [],
   "source": [
    "# helper functions for defining weights/biases in tensorflow\n",
    "def weight_variable(shape):\n",
    "    return tf.Variable(tf.truncated_normal(shape, stddev=0.1))\n",
    "\n",
    "def bias_variable(shape):\n",
    "    return tf.Variable(tf.constant(0.1), shape)"
   ]
  },
  {
   "cell_type": "code",
   "execution_count": 128,
   "metadata": {},
   "outputs": [],
   "source": [
    "# (1) define network architecture\n",
    "with tf.name_scope(\"input\"):\n",
    "    x = tf.placeholder(tf.float32, [None, 784], name=\"features\")\n",
    "    y = tf.placeholder(tf.int64, [None], name=\"labels\")\n",
    "\n",
    "with tf.name_scope(\"fc-layer-1\"):\n",
    "    w1 = weight_variable([784, 500])\n",
    "    b1 = bias_variable([500])\n",
    "    fc1 = tf.nn.relu(tf.matmul(x, w1) + b1)\n",
    "\n",
    "with tf.name_scope(\"fc-layer-2\"):\n",
    "    w2 = weight_variable([500, 500])\n",
    "    b2 = bias_variable([500])\n",
    "    fc2 = tf.nn.relu(tf.matmul(fc1, w2) + b2)\n",
    "    \n",
    "with tf.name_scope(\"output\"):\n",
    "    w3 = weight_variable([500, 10])\n",
    "    b3 = bias_variable([10])\n",
    "    y_ = tf.matmul(fc2, w3) + b3"
   ]
  },
  {
   "cell_type": "code",
   "execution_count": 129,
   "metadata": {},
   "outputs": [],
   "source": [
    "# (2) define loss function\n",
    "with tf.name_scope(\"loss\"):\n",
    "    cross_entropy = tf.losses.sparse_softmax_cross_entropy(\n",
    "        labels=y, logits=y_\n",
    "    )"
   ]
  },
  {
   "cell_type": "code",
   "execution_count": 130,
   "metadata": {},
   "outputs": [],
   "source": [
    "# (3) define optimizer\n",
    "with tf.name_scope(\"optimizer\"):\n",
    "    optimizer = tf.train.AdamOptimizer(learning_rate=0.01).minimize(\n",
    "        cross_entropy\n",
    "    )"
   ]
  },
  {
   "cell_type": "code",
   "execution_count": 131,
   "metadata": {},
   "outputs": [],
   "source": [
    "# aside: evaluation operations\n",
    "with tf.name_scope(\"accuracy\"):\n",
    "    correct = tf.equal(tf.argmax(y_, 1), y)\n",
    "    accuracy = tf.reduce_mean(tf.cast(correct, tf.float32))"
   ]
  },
  {
   "cell_type": "code",
   "execution_count": 132,
   "metadata": {
    "scrolled": true
   },
   "outputs": [
    {
     "name": "stdout",
     "output_type": "stream",
     "text": [
      "==================================================\n",
      "Epoch 0 completed, loss = 689.0025\n",
      "Test accuracy = [0.36480272]\n",
      "==================================================\n",
      "Epoch 1 completed, loss = 2291.3713\n",
      "Test accuracy = [0.31929314]\n",
      "==================================================\n",
      "Epoch 2 completed, loss = 2850.1794\n",
      "Test accuracy = [0.23989348]\n",
      "==================================================\n",
      "Epoch 3 completed, loss = 2256.5613\n",
      "Test accuracy = [0.20140402]\n",
      "==================================================\n",
      "Epoch 4 completed, loss = 1426.2511\n",
      "Test accuracy = [0.3379327]\n",
      "==================================================\n",
      "Epoch 5 completed, loss = 526.5227\n",
      "Test accuracy = [0.47930282]\n",
      "==================================================\n",
      "Epoch 6 completed, loss = 218.54288\n",
      "Test accuracy = [0.49939483]\n",
      "==================================================\n",
      "Epoch 7 completed, loss = 112.80678\n",
      "Test accuracy = [0.5315904]\n",
      "==================================================\n",
      "Epoch 8 completed, loss = 66.421265\n",
      "Test accuracy = [0.5463568]\n",
      "==================================================\n",
      "Epoch 9 completed, loss = 46.45435\n",
      "Test accuracy = [0.5342532]\n",
      "==================================================\n",
      "Epoch 10 completed, loss = 35.097748\n",
      "Test accuracy = [0.55458724]\n",
      "==================================================\n",
      "Epoch 11 completed, loss = 24.856958\n",
      "Test accuracy = [0.6090535]\n",
      "==================================================\n",
      "Epoch 12 completed, loss = 16.122934\n",
      "Test accuracy = [0.6506899]\n",
      "==================================================\n",
      "Epoch 13 completed, loss = 11.552668\n",
      "Test accuracy = [0.62527233]\n",
      "==================================================\n",
      "Epoch 14 completed, loss = 9.28995\n",
      "Test accuracy = [0.6170419]\n",
      "==================================================\n",
      "Epoch 15 completed, loss = 7.2955146\n",
      "Test accuracy = [0.60493827]\n",
      "==================================================\n",
      "Epoch 16 completed, loss = 5.6851683\n",
      "Test accuracy = [0.5988865]\n",
      "==================================================\n",
      "Epoch 17 completed, loss = 4.490425\n",
      "Test accuracy = [0.5921084]\n",
      "==================================================\n",
      "Epoch 18 completed, loss = 3.7014318\n",
      "Test accuracy = [0.5841201]\n",
      "==================================================\n",
      "Epoch 19 completed, loss = 3.2289417\n",
      "Test accuracy = [0.5691116]\n",
      "==================================================\n",
      "Epoch 20 completed, loss = 2.9076247\n",
      "Test accuracy = [0.5567659]\n",
      "==================================================\n",
      "Epoch 21 completed, loss = 2.629427\n",
      "Test accuracy = [0.54345196]\n",
      "==================================================\n",
      "Epoch 22 completed, loss = 2.3804908\n",
      "Test accuracy = [0.52795935]\n",
      "==================================================\n",
      "Epoch 23 completed, loss = 2.1648486\n",
      "Test accuracy = [0.5158557]\n",
      "==================================================\n",
      "Epoch 24 completed, loss = 2.0147648\n",
      "Test accuracy = [0.49043816]\n",
      "==================================================\n",
      "Epoch 25 completed, loss = 1.9061644\n",
      "Test accuracy = [0.4996369]\n",
      "==================================================\n",
      "Epoch 26 completed, loss = 1.8014729\n",
      "Test accuracy = [0.49310094]\n",
      "==================================================\n",
      "Epoch 27 completed, loss = 1.7346172\n",
      "Test accuracy = [0.48535463]\n",
      "==================================================\n",
      "Epoch 28 completed, loss = 1.6809087\n",
      "Test accuracy = [0.4761559]\n",
      "==================================================\n",
      "Epoch 29 completed, loss = 1.638338\n",
      "Test accuracy = [0.4715565]\n",
      "==================================================\n"
     ]
    }
   ],
   "source": [
    "# (4) train network\n",
    "with tf.Session() as sess:\n",
    "    \n",
    "    # initialize all our operations\n",
    "    sess.run(tf.global_variables_initializer())\n",
    "    \n",
    "    # train the network\n",
    "    print(\"==================================================\")\n",
    "    for epoch in range(30):\n",
    "        \n",
    "        # Note: usually you have to chunk through the data in another\n",
    "        #       for loop; the data here is small though, so you might not\n",
    "        #       have to.\n",
    "        _, epoch_loss = sess.run([optimizer, cross_entropy],\n",
    "                feed_dict={x: train_X, y: train_y})\n",
    "        \n",
    "        print(\"Epoch \" + str(epoch) + \" completed, loss = \"\n",
    "              + str(epoch_loss))\n",
    "        \n",
    "        # evaluate on test data\n",
    "        score = sess.run([accuracy],\n",
    "                feed_dict={x: test_X, y: test_y})\n",
    "        print(\"Test accuracy = \" + str(score))\n",
    "        \n",
    "        print(\"==================================================\")"
   ]
  },
  {
   "cell_type": "code",
   "execution_count": null,
   "metadata": {},
   "outputs": [],
   "source": []
  }
 ],
 "metadata": {
  "kernelspec": {
   "display_name": "Python 3",
   "language": "python",
   "name": "python3"
  },
  "language_info": {
   "codemirror_mode": {
    "name": "ipython",
    "version": 3
   },
   "file_extension": ".py",
   "mimetype": "text/x-python",
   "name": "python",
   "nbconvert_exporter": "python",
   "pygments_lexer": "ipython3",
   "version": "3.6.4"
  }
 },
 "nbformat": 4,
 "nbformat_minor": 2
}

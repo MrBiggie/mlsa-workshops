{
 "cells": [
  {
   "cell_type": "markdown",
   "metadata": {},
   "source": [
    "# Workshop PR02: Data Science Process"
   ]
  },
  {
   "cell_type": "markdown",
   "metadata": {},
   "source": [
    "## Learning Objectives\n",
    "* Gain a cursory understanding of \"the data science\" process\n",
    "* Practice using `pandas` for manipulating data"
   ]
  },
  {
   "cell_type": "markdown",
   "metadata": {},
   "source": [
    "## Data Science Process\n",
    "\n",
    "The point of this workshop is to give you an idea of what \"doing data science\" actually entails, and then to help you through that process (and some of the tools we could use) on an example data set. This process has roughly five steps:\n",
    "\n",
    "1. **Cleaning**. Get your data into a state that can be used for modelling;\n",
    "2. **Exploration**. Suss out your data for any interesting patterns, or to test out a few of your initial hypotheses;\n",
    "3. **Feature Engineering**. Generate new informative features for your data;\n",
    "4. **Modelling**. Build your classifier (typically, using one of the existing common algorithms); and\n",
    "5. **Rinse and repeat**.\n",
    "\n",
    "This is obviously a pretty naive workflow, but it gives you a bit of a sense of where to start. In practice, there's a lot of back-and-forth between the steps (especially 2, 3, and 4)."
   ]
  },
  {
   "cell_type": "markdown",
   "metadata": {},
   "source": [
    "## Worked Example: Titanic\n",
    "\n",
    "Let's step through Step 1-4 using the Titanic data set as an example."
   ]
  },
  {
   "cell_type": "code",
   "execution_count": 2,
   "metadata": {},
   "outputs": [],
   "source": [
    "import pandas as pd"
   ]
  },
  {
   "cell_type": "code",
   "execution_count": 4,
   "metadata": {},
   "outputs": [],
   "source": [
    "# read in the data (check Workshop PR01 if you haven't got it yet)\n",
    "path_to_data = \"../../kg-data/titanic/train.csv\"\n",
    "df = pd.read_csv(path_to_data)"
   ]
  },
  {
   "cell_type": "markdown",
   "metadata": {},
   "source": []
  }
 ],
 "metadata": {
  "kernelspec": {
   "display_name": "Python 3",
   "language": "python",
   "name": "python3"
  },
  "language_info": {
   "codemirror_mode": {
    "name": "ipython",
    "version": 3
   },
   "file_extension": ".py",
   "mimetype": "text/x-python",
   "name": "python",
   "nbconvert_exporter": "python",
   "pygments_lexer": "ipython3",
   "version": "3.6.4"
  }
 },
 "nbformat": 4,
 "nbformat_minor": 2
}

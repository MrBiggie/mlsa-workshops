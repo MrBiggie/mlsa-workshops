{
 "cells": [
  {
   "cell_type": "markdown",
   "metadata": {},
   "source": [
    "# Workshop PR01: Setting up, an intro to pandas, & data basics"
   ]
  },
  {
   "cell_type": "markdown",
   "metadata": {},
   "source": [
    "## Learning Objectives\n",
    "* Set up a working Anaconda3 environment\n",
    "* Sign up to Kaggle\n",
    "* Understand the terminology we use to talk about data sets\n",
    "* Cursory understanding of coding using the `pandas` module"
   ]
  },
  {
   "cell_type": "markdown",
   "metadata": {},
   "source": [
    "## Setting up your Anaconda3\n",
    "1. **Install Anaconda3**. Download Anaconda (Python 3.7) from https://www.anaconda.com/distribution/ for whichever operating system you're using.\n",
    "2. **Install `pandas`**. Open Anaconda3 navigator, and open the console (Environments --> root). Type `conda install pandas` into the console, and wait for it to install.\n",
    "3. **Install `sklearn`**. The same as in 2, but typing `conda install sklearn`."
   ]
  },
  {
   "cell_type": "markdown",
   "metadata": {},
   "source": [
    "## Sign up to Kaggle\n",
    "We use a lot of data sets provided by Kaggle (https://www.kaggle.com/), including the one we'll be using in the next session. Sign up to Kaggle so you've got access to these."
   ]
  },
  {
   "cell_type": "markdown",
   "metadata": {},
   "source": [
    "## Intro to pandas\n",
    "In this section, we'll take a look at using `pandas` to read in and mess around with some data. There are two things we're trying to do here: (1) get familiar look with some must-know `pandas` syntax, and (2) pick up some of the terminology that gets used to talk about data.\n",
    "\n",
    "We'll be using the data from the Kaggle competition, \"Titanic: Machine Learning from Disaster\" (https://www.kaggle.com/c/titanic). **Download 'train.csv'; put it in the same directory as this jupyter notebook.**"
   ]
  },
  {
   "cell_type": "markdown",
   "metadata": {},
   "source": [
    "### The pandas dataframe\n",
    "\n",
    "If we want to use Python to take a look at our Titanic data, then we need to get the data into some kind of in-memory Python object. We're going to use the `Dataframe` provided by the `pandas` module.\n",
    "\n",
    "Think of a `Dataframe` as pretty much the same thing as a table (like in Excel). Columns pertain to features (e.g. age, weight) and rows to data objects (e.g. people).\n",
    "\n",
    "Let's start out by **reading the data into a pandas dataframe**."
   ]
  },
  {
   "cell_type": "code",
   "execution_count": 7,
   "metadata": {},
   "outputs": [],
   "source": [
    "import pandas as pd"
   ]
  },
  {
   "cell_type": "code",
   "execution_count": 8,
   "metadata": {},
   "outputs": [],
   "source": [
    "# read the data from a .csv into an in-memory dataframe\n",
    "path_to_data = \"../../kg-data/titanic/train.csv\"\n",
    "df = pd.read_csv(path_to_data)"
   ]
  },
  {
   "cell_type": "code",
   "execution_count": 9,
   "metadata": {},
   "outputs": [
    {
     "data": {
      "text/html": [
       "<div>\n",
       "<style scoped>\n",
       "    .dataframe tbody tr th:only-of-type {\n",
       "        vertical-align: middle;\n",
       "    }\n",
       "\n",
       "    .dataframe tbody tr th {\n",
       "        vertical-align: top;\n",
       "    }\n",
       "\n",
       "    .dataframe thead th {\n",
       "        text-align: right;\n",
       "    }\n",
       "</style>\n",
       "<table border=\"1\" class=\"dataframe\">\n",
       "  <thead>\n",
       "    <tr style=\"text-align: right;\">\n",
       "      <th></th>\n",
       "      <th>PassengerId</th>\n",
       "      <th>Survived</th>\n",
       "      <th>Pclass</th>\n",
       "      <th>Name</th>\n",
       "      <th>Sex</th>\n",
       "      <th>Age</th>\n",
       "      <th>SibSp</th>\n",
       "      <th>Parch</th>\n",
       "      <th>Ticket</th>\n",
       "      <th>Fare</th>\n",
       "      <th>Cabin</th>\n",
       "      <th>Embarked</th>\n",
       "    </tr>\n",
       "  </thead>\n",
       "  <tbody>\n",
       "    <tr>\n",
       "      <th>0</th>\n",
       "      <td>1</td>\n",
       "      <td>0</td>\n",
       "      <td>3</td>\n",
       "      <td>Braund, Mr. Owen Harris</td>\n",
       "      <td>male</td>\n",
       "      <td>22.0</td>\n",
       "      <td>1</td>\n",
       "      <td>0</td>\n",
       "      <td>A/5 21171</td>\n",
       "      <td>7.2500</td>\n",
       "      <td>NaN</td>\n",
       "      <td>S</td>\n",
       "    </tr>\n",
       "    <tr>\n",
       "      <th>1</th>\n",
       "      <td>2</td>\n",
       "      <td>1</td>\n",
       "      <td>1</td>\n",
       "      <td>Cumings, Mrs. John Bradley (Florence Briggs Th...</td>\n",
       "      <td>female</td>\n",
       "      <td>38.0</td>\n",
       "      <td>1</td>\n",
       "      <td>0</td>\n",
       "      <td>PC 17599</td>\n",
       "      <td>71.2833</td>\n",
       "      <td>C85</td>\n",
       "      <td>C</td>\n",
       "    </tr>\n",
       "    <tr>\n",
       "      <th>2</th>\n",
       "      <td>3</td>\n",
       "      <td>1</td>\n",
       "      <td>3</td>\n",
       "      <td>Heikkinen, Miss. Laina</td>\n",
       "      <td>female</td>\n",
       "      <td>26.0</td>\n",
       "      <td>0</td>\n",
       "      <td>0</td>\n",
       "      <td>STON/O2. 3101282</td>\n",
       "      <td>7.9250</td>\n",
       "      <td>NaN</td>\n",
       "      <td>S</td>\n",
       "    </tr>\n",
       "    <tr>\n",
       "      <th>3</th>\n",
       "      <td>4</td>\n",
       "      <td>1</td>\n",
       "      <td>1</td>\n",
       "      <td>Futrelle, Mrs. Jacques Heath (Lily May Peel)</td>\n",
       "      <td>female</td>\n",
       "      <td>35.0</td>\n",
       "      <td>1</td>\n",
       "      <td>0</td>\n",
       "      <td>113803</td>\n",
       "      <td>53.1000</td>\n",
       "      <td>C123</td>\n",
       "      <td>S</td>\n",
       "    </tr>\n",
       "    <tr>\n",
       "      <th>4</th>\n",
       "      <td>5</td>\n",
       "      <td>0</td>\n",
       "      <td>3</td>\n",
       "      <td>Allen, Mr. William Henry</td>\n",
       "      <td>male</td>\n",
       "      <td>35.0</td>\n",
       "      <td>0</td>\n",
       "      <td>0</td>\n",
       "      <td>373450</td>\n",
       "      <td>8.0500</td>\n",
       "      <td>NaN</td>\n",
       "      <td>S</td>\n",
       "    </tr>\n",
       "  </tbody>\n",
       "</table>\n",
       "</div>"
      ],
      "text/plain": [
       "   PassengerId  Survived  Pclass  \\\n",
       "0            1         0       3   \n",
       "1            2         1       1   \n",
       "2            3         1       3   \n",
       "3            4         1       1   \n",
       "4            5         0       3   \n",
       "\n",
       "                                                Name     Sex   Age  SibSp  \\\n",
       "0                            Braund, Mr. Owen Harris    male  22.0      1   \n",
       "1  Cumings, Mrs. John Bradley (Florence Briggs Th...  female  38.0      1   \n",
       "2                             Heikkinen, Miss. Laina  female  26.0      0   \n",
       "3       Futrelle, Mrs. Jacques Heath (Lily May Peel)  female  35.0      1   \n",
       "4                           Allen, Mr. William Henry    male  35.0      0   \n",
       "\n",
       "   Parch            Ticket     Fare Cabin Embarked  \n",
       "0      0         A/5 21171   7.2500   NaN        S  \n",
       "1      0          PC 17599  71.2833   C85        C  \n",
       "2      0  STON/O2. 3101282   7.9250   NaN        S  \n",
       "3      0            113803  53.1000  C123        S  \n",
       "4      0            373450   8.0500   NaN        S  "
      ]
     },
     "execution_count": 9,
     "metadata": {},
     "output_type": "execute_result"
    }
   ],
   "source": [
    "# take a look at the first few rows\n",
    "df.head()"
   ]
  },
  {
   "cell_type": "markdown",
   "metadata": {},
   "source": [
    "### Aside: Data set terminology\n",
    "* The rows, each of which contains data pertaining to a single real-world object of interest (i.e. a passenger) are referred to as **instances**.\n",
    "* The columns, containing data that describe each of the instances (e.g. \"PClass\", \"Sex\", \"Age\"), are referred to as **features**.\n",
    "* In the context of using data to build predictive models or classifiers, the property (column) that we're trying to predict/classify is called the **label**. In this competition, the label we're interested in predicting is \"Survived\"."
   ]
  },
  {
   "cell_type": "markdown",
   "metadata": {},
   "source": [
    "### Stuff you can do with a `pandas` dataframe\n",
    "\n",
    "There are tonnes of things you can do with the `DataFrame`. We've listed a few of the most common things here, but check out https://pandas.pydata.org/pandas-docs/stable/reference/api/pandas.DataFrame.html if you want to know more.\n",
    "\n",
    "#### Summarize the data\n",
    "```Python\n",
    "df.describe() # generates summary statistics over the data\n",
    "df.info() # prints dataframe metadata (e.g. data types of each column)\n",
    "df[\"Survived\"].unique() # lists all the unique values in a column\n",
    "df['Survived'].value_counts() # counts up the number of times each unique value occurs\n",
    "```\n",
    "\n",
    "#### Checking for NaNs\n",
    "```Python\n",
    "df[\"Cabin\"].isnull().sum()\n",
    "```\n",
    "\n",
    "#### Selecting data\n",
    "```Python\n",
    "survived = df[\"Survived\"] # to select a single column (returns Series, not DataFrame)\n",
    "age_sex = df[[\"Age\", \"Sex\"]] # to select multiple columns (returns DataFrame)\n",
    "```\n",
    "\n",
    "#### Creating new columns\n",
    "```Python\n",
    "df[\"num_family_members\"] = df[\"SibSp\"] + df[\"Parch\"] # create new column by summing two existing ones\n",
    "df[\"sex_as_number\"] = df[\"Sex\"].apply(lambda row: 0 if row == \"male\" else 1) # create new col by applying the lambda function to \"Sex\"\n",
    "```\n",
    "\n",
    "#### Dropping existing columns\n",
    "```Python\n",
    "df = df.drop([\"Name\"], axis=1) # drop the \"Name\" column from the data set\n",
    "```"
   ]
  },
  {
   "cell_type": "code",
   "execution_count": null,
   "metadata": {},
   "outputs": [],
   "source": []
  }
 ],
 "metadata": {
  "kernelspec": {
   "display_name": "Python 3",
   "language": "python",
   "name": "python3"
  },
  "language_info": {
   "codemirror_mode": {
    "name": "ipython",
    "version": 3
   },
   "file_extension": ".py",
   "mimetype": "text/x-python",
   "name": "python",
   "nbconvert_exporter": "python",
   "pygments_lexer": "ipython3",
   "version": "3.6.4"
  }
 },
 "nbformat": 4,
 "nbformat_minor": 2
}

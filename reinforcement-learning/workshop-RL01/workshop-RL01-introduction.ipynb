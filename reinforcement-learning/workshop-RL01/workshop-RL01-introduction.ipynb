{
 "cells": [
  {
   "cell_type": "markdown",
   "metadata": {},
   "source": [
    "# Workshop RL-01: Introduction"
   ]
  },
  {
   "cell_type": "markdown",
   "metadata": {},
   "source": [
    "## Reinforcement Learning\n",
    "\n",
    "### Recap\n",
    "\n",
    "Quick recap - we said earlier that there are three machine learning paradigms: (1) supervised learning, (2) unsupervised learning, and (3) reinforcement learning (we've swept a few others under the carpet for the moment).\n",
    "* **Supervised Learning** - this is where we're *given a set of features X and corresponding labels y*, and we have to come up with a model that maps unseen X to a label.\n",
    "* **Unsupervised Learning** - this is where we're *given a set of features X without any labels*, and we have to come up with some way of finding similar or associated groups of X.\n",
    "\n",
    "### Reinforcement Learning\n",
    "\n",
    "**Reinforcement Learning** is a little bit different. We aren't explicitly given any Xs or ys. Instead, we have to deal with an *agent* interacting with an *environment*. Think of an *environment* as being like a game world, and an *agent* as the main player in that game. The agent can interact with the environment by taking different *actions*; taking a given sequence of actions will yield some kind of reward (e.g. the final score in a game).\n",
    "\n",
    "**The Problem**. The problem that reinforcement learning tries to solve is to to teach the agent how to take actions that will maximise its overall score. The biggest difficulty with this process is that taking an action taken now might not generate a reward until much later.\n",
    "\n",
    "**The Solution**. The way that we solve this problem is by giving the agent some function which determines the \"long-run value\" of any of the available actions out of a given state\".\n",
    "\n",
    "### Policy-Based Learning\n",
    "\n",
    "### Value-Based Learning"
   ]
  },
  {
   "cell_type": "markdown",
   "metadata": {},
   "source": [
    "## Frozen-Lake Q-Learning"
   ]
  },
  {
   "cell_type": "markdown",
   "metadata": {},
   "source": []
  }
 ],
 "metadata": {
  "kernelspec": {
   "display_name": "Python 3",
   "language": "python",
   "name": "python3"
  },
  "language_info": {
   "codemirror_mode": {
    "name": "ipython",
    "version": 3
   },
   "file_extension": ".py",
   "mimetype": "text/x-python",
   "name": "python",
   "nbconvert_exporter": "python",
   "pygments_lexer": "ipython3",
   "version": "3.6.4"
  }
 },
 "nbformat": 4,
 "nbformat_minor": 2
}

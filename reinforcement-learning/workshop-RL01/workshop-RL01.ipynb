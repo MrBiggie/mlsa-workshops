{
 "cells": [
  {
   "cell_type": "markdown",
   "metadata": {},
   "source": [
    "# Workshop RL-01: Introduction"
   ]
  },
  {
   "cell_type": "markdown",
   "metadata": {},
   "source": [
    "## Reinforcement Learning\n",
    "* https://www.analyticsvidhya.com/blog/2017/01/introduction-to-reinforcement-learning-implementation/\n",
    "* https://joshgreaves.com/reinforcement-learning/understanding-rl-the-bellman-equations/"
   ]
  },
  {
   "cell_type": "markdown",
   "metadata": {},
   "source": [
    "## Worked Example: Frozen-Lake Q-Learning"
   ]
  },
  {
   "cell_type": "code",
   "execution_count": 127,
   "metadata": {},
   "outputs": [],
   "source": [
    "import gym\n",
    "import numpy as np"
   ]
  },
  {
   "cell_type": "code",
   "execution_count": 128,
   "metadata": {},
   "outputs": [],
   "source": [
    "LEARNING_RATE = 0.80\n",
    "DISCOUNT_FACTOR = 0.95\n",
    "N_TRAINING_EPISODES = 5000"
   ]
  },
  {
   "cell_type": "code",
   "execution_count": 129,
   "metadata": {},
   "outputs": [],
   "source": [
    "env = gym.make(\"FrozenLake-v0\")\n",
    "N_STATES = env.observation_space.n\n",
    "N_ACTIONS = env.action_space.n"
   ]
  },
  {
   "cell_type": "code",
   "execution_count": 130,
   "metadata": {},
   "outputs": [
    {
     "data": {
      "text/plain": [
       "(16, 4)"
      ]
     },
     "execution_count": 130,
     "metadata": {},
     "output_type": "execute_result"
    }
   ],
   "source": [
    "# initialize the Q-table - this should have one entry for each\n",
    "#   state, action tuple, hence shape=(N_STATES)\n",
    "Q_table = np.zeros([N_STATES, N_ACTIONS])\n",
    "Q_table.shape"
   ]
  },
  {
   "cell_type": "code",
   "execution_count": 131,
   "metadata": {},
   "outputs": [],
   "source": [
    "# reset the environment and reward\n",
    "episode_rewards = []\n",
    "    \n",
    "# play however-many training episodes\n",
    "for episode in range(N_TRAINING_EPISODES):\n",
    "        \n",
    "    state = env.reset()\n",
    "    episode_reward = 0.0\n",
    "    done = False\n",
    "        \n",
    "    while not done:\n",
    "        \n",
    "        # choose the action with the highest Q-value for the state\n",
    "        action = np.argmax(Q_table[state, :]\\\n",
    "                + np.random.randn(1, N_ACTIONS)*(1.0 / (episode+1)))\n",
    "        # the second line adds noise to the choice of action - this is\n",
    "        # to encourage exploration\n",
    "\n",
    "        # execute the action and go to next state\n",
    "        state_, reward, done, _ = env.step(action)\n",
    "\n",
    "        # update the Q table according to the Bellman Equation\n",
    "        Q_table[state, action] = Q_table[state, action] +\\\n",
    "            LEARNING_RATE * (reward + DISCOUNT_FACTOR * np.max(Q_table[state_, :]) - Q_table[state, action])\n",
    "\n",
    "        episode_reward += reward\n",
    "        state = state_\n",
    "\n",
    "    episode_rewards.append(episode_reward)"
   ]
  },
  {
   "cell_type": "code",
   "execution_count": 133,
   "metadata": {},
   "outputs": [
    {
     "data": {
      "image/png": "[encoded data removed]",
      "text/plain": [
       "<matplotlib.figure.Figure at 0x109098e48>"
      ]
     },
     "metadata": {},
     "output_type": "display_data"
    }
   ],
   "source": [
    "# plot the reward over time\n",
    "import matplotlib.pyplot as plt\n",
    "episodes = range(N_TRAINING_EPISODES)\n",
    "plt.scatter(episodes[-100:], episode_rewards[-100:])\n",
    "plt.show()"
   ]
  },
  {
   "cell_type": "code",
   "execution_count": null,
   "metadata": {},
   "outputs": [],
   "source": []
  }
 ],
 "metadata": {
  "kernelspec": {
   "display_name": "Python 3",
   "language": "python",
   "name": "python3"
  },
  "language_info": {
   "codemirror_mode": {
    "name": "ipython",
    "version": 3
   },
   "file_extension": ".py",
   "mimetype": "text/x-python",
   "name": "python",
   "nbconvert_exporter": "python",
   "pygments_lexer": "ipython3",
   "version": "3.6.4"
  }
 },
 "nbformat": 4,
 "nbformat_minor": 2
}
